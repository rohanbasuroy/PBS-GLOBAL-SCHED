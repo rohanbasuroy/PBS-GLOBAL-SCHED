{
 "cells": [
  {
   "cell_type": "code",
   "execution_count": 1,
   "id": "c783b28e",
   "metadata": {},
   "outputs": [
    {
     "data": {
      "text/html": [
       "\n",
       "<style>\n",
       "    div#notebook-container    { width: 95%; }\n",
       "    div#menubar-container     { width: 65%; }\n",
       "    div#maintoolbar-container { width: 99%; }\n",
       "</style>\n"
      ],
      "text/plain": [
       "<IPython.core.display.HTML object>"
      ]
     },
     "metadata": {},
     "output_type": "display_data"
    }
   ],
   "source": [
    "from IPython.display import display, HTML\n",
    "\n",
    "display(HTML(data=\"\"\"\n",
    "<style>\n",
    "    div#notebook-container    { width: 95%; }\n",
    "    div#menubar-container     { width: 65%; }\n",
    "    div#maintoolbar-container { width: 99%; }\n",
    "</style>\n",
    "\"\"\"))"
   ]
  },
  {
   "cell_type": "code",
   "execution_count": 100,
   "id": "8a8dc2b8",
   "metadata": {},
   "outputs": [
    {
     "name": "stdout",
     "output_type": "stream",
     "text": [
      "Machine information available!\n",
      "Job log available between the start and end timeframes!\n"
     ]
    }
   ],
   "source": [
    "import os\n",
    "import sys\n",
    "import pandas as pd\n",
    "import glob\n",
    "\n",
    "def read_csv_files(file_pattern):\n",
    "    all_files = glob.glob(file_pattern)\n",
    "    df_list = []\n",
    "    for file in all_files:\n",
    "        df = pd.read_csv(file)\n",
    "        df_list.append(df)\n",
    "    return pd.concat(df_list)\n",
    "\n",
    "def sys_information(sc, fields, job_fields):\n",
    "    sc=sc.upper()\n",
    "    node=[]\n",
    "    name=[]\n",
    "    with open(\"./data/system_information\", 'r') as file:\n",
    "        for line in file:\n",
    "            supercomputer, nodes = line.strip().split(':')\n",
    "            name.append(supercomputer)\n",
    "            node.append(nodes)\n",
    "    if sc not in name:\n",
    "        nodes = input(f\"Number of nodes for {sc}: \")\n",
    "        with open(\"./data/system_information\", 'a') as file:\n",
    "            file.write(f\"{sc}:{nodes}\\n\")\n",
    "        name.append(sc)\n",
    "        node.append(nodes)\n",
    "        \n",
    "        \n",
    "    return node[name.index(sc)]\n",
    "\n",
    "    \n",
    "\n",
    "def get_jobs_between_timeframe(df, start_time, end_time):\n",
    "    jobs_between_timeframe = df[((df['QUEUED_TIMESTAMP'] >= start_time) | (df['START_TIMESTAMP'] >= start_time)) & ((df['QUEUED_TIMESTAMP'] <= end_time))]\n",
    "    job_fields = jobs_between_timeframe.to_numpy()\n",
    "    fields = jobs_between_timeframe.columns.to_numpy()\n",
    "    return fields, job_fields\n",
    "    \n",
    "def request_check_and_get_data():\n",
    "    available_servers = [item for item in os.listdir(\"./data\") if os.path.isdir(os.path.join(\"./data\", item))]\n",
    "    if machine_name not in available_servers:\n",
    "        print(\"Machine data not available. Please create a directory inside './data' with the machine name and extract the DIM_JOB_COMPOSITE csv files of the machine inside the directory.\")\n",
    "        sys.exit()\n",
    "    else:\n",
    "        print(\"Machine information available!\")\n",
    "        file_pattern = \"./data/\"+machine_name+\"/ANL-ALCF-DJC-\"+machine_name.upper()+\"_*.csv\"\n",
    "        df = read_csv_files(file_pattern)\n",
    "        fields, job_fields = get_jobs_between_timeframe(df, start_timeframe, end_timeframe)\n",
    "        if len(job_fields)==0:\n",
    "            print(\"Fix the start and/or end time frame. Either no job exist in between the set timeframes, or no job log available in the set timeframes.\")\n",
    "            sys.exit()\n",
    "        else:\n",
    "            print(\"Job log available between the start and end timeframes!\")\n",
    "    return fields, job_fields\n",
    "\n",
    "if __name__ == \"__main__\":\n",
    "    machine_name=\"theta\" ##\n",
    "    start_timeframe=\"2019-12-10 19:00:00\" ##\n",
    "    end_timeframe=\"2020-02-10 19:00:00\" ##\n",
    "    fields, job_fields = request_check_and_get_data()\n",
    "    sys_information(machine_name, fields, job_fields)\n",
    "    \n",
    "    \n",
    "    \n",
    "   "
   ]
  },
  {
   "cell_type": "code",
   "execution_count": 101,
   "id": "e9e5425f",
   "metadata": {},
   "outputs": [
    {
     "data": {
      "text/plain": [
       "57"
      ]
     },
     "execution_count": 101,
     "metadata": {},
     "output_type": "execute_result"
    }
   ],
   "source": [
    "len(fields)"
   ]
  },
  {
   "cell_type": "code",
   "execution_count": 107,
   "id": "521e05c5",
   "metadata": {},
   "outputs": [
    {
     "data": {
      "text/plain": [
       "'JJ'"
      ]
     },
     "execution_count": 107,
     "metadata": {},
     "output_type": "execute_result"
    }
   ],
   "source": [
    "j=\"jj\".upper()\n",
    "j"
   ]
  },
  {
   "cell_type": "code",
   "execution_count": 116,
   "id": "2ba9c785",
   "metadata": {},
   "outputs": [
    {
     "name": "stdout",
     "output_type": "stream",
     "text": [
      "24\n"
     ]
    }
   ],
   "source": [
    "\n",
    "\n",
    "a=sys_information(\"thetagpu\")\n",
    "print(a)"
   ]
  },
  {
   "cell_type": "code",
   "execution_count": null,
   "id": "ca199c0c",
   "metadata": {},
   "outputs": [],
   "source": []
  }
 ],
 "metadata": {
  "kernelspec": {
   "display_name": "Python 3",
   "language": "python",
   "name": "python3"
  },
  "language_info": {
   "codemirror_mode": {
    "name": "ipython",
    "version": 3
   },
   "file_extension": ".py",
   "mimetype": "text/x-python",
   "name": "python",
   "nbconvert_exporter": "python",
   "pygments_lexer": "ipython3",
   "version": "3.6.9"
  }
 },
 "nbformat": 4,
 "nbformat_minor": 5
}
